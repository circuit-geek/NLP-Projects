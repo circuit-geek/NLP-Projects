{
  "nbformat": 4,
  "nbformat_minor": 0,
  "metadata": {
    "colab": {
      "name": "Preprocessing_text_sentiment_analysis.ipynb",
      "provenance": [],
      "authorship_tag": "ABX9TyO/gHRuSylwyefkCwffF3I2",
      "include_colab_link": true
    },
    "kernelspec": {
      "name": "python3",
      "display_name": "Python 3"
    },
    "language_info": {
      "name": "python"
    }
  },
  "cells": [
    {
      "cell_type": "markdown",
      "metadata": {
        "id": "view-in-github",
        "colab_type": "text"
      },
      "source": [
        "<a href=\"https://colab.research.google.com/github/circuit-geek/NLP-Projects/blob/main/Preprocessing_text_sentiment_analysis.ipynb\" target=\"_parent\"><img src=\"https://colab.research.google.com/assets/colab-badge.svg\" alt=\"Open In Colab\"/></a>"
      ]
    },
    {
      "cell_type": "markdown",
      "metadata": {
        "id": "f7Ue8FhJSyyj"
      },
      "source": [
        "**Preprocessing Text Data For Sentiment Analysis using NLTK**"
      ]
    },
    {
      "cell_type": "code",
      "metadata": {
        "id": "xOMoyo6YS9Hs"
      },
      "source": [
        "import nltk\n",
        "from nltk.corpus import twitter_samples"
      ],
      "execution_count": 1,
      "outputs": []
    },
    {
      "cell_type": "code",
      "metadata": {
        "id": "9WR0WbXXTF65"
      },
      "source": [
        "import matplotlib.pyplot as plt\n",
        "import random"
      ],
      "execution_count": 2,
      "outputs": []
    },
    {
      "cell_type": "code",
      "metadata": {
        "colab": {
          "base_uri": "https://localhost:8080/"
        },
        "id": "Isll9BVBTJYo",
        "outputId": "2b64166d-9a2c-4fa4-c70b-f6745d897c9f"
      },
      "source": [
        "nltk.download('twitter_samples')"
      ],
      "execution_count": 3,
      "outputs": [
        {
          "output_type": "stream",
          "text": [
            "[nltk_data] Downloading package twitter_samples to /root/nltk_data...\n",
            "[nltk_data]   Unzipping corpora/twitter_samples.zip.\n"
          ],
          "name": "stdout"
        },
        {
          "output_type": "execute_result",
          "data": {
            "text/plain": [
              "True"
            ]
          },
          "metadata": {
            "tags": []
          },
          "execution_count": 3
        }
      ]
    },
    {
      "cell_type": "code",
      "metadata": {
        "id": "crE5FxcdTlmN"
      },
      "source": [
        "positive_tweets = twitter_samples.strings('positive_tweets.json')\n",
        "negative_tweets = twitter_samples.strings('negative_tweets.json')"
      ],
      "execution_count": 4,
      "outputs": []
    },
    {
      "cell_type": "code",
      "metadata": {
        "colab": {
          "base_uri": "https://localhost:8080/"
        },
        "id": "Zu9IeUMeT7I2",
        "outputId": "35e25517-4663-4f13-f0ac-08d7f67cfea3"
      },
      "source": [
        "print('The number of positive tweets is:', len(positive_tweets))\n",
        "print('The number of negative tweets is:', len(negative_tweets))"
      ],
      "execution_count": 5,
      "outputs": [
        {
          "output_type": "stream",
          "text": [
            "The number of positive tweets is: 5000\n",
            "The number of negative tweets is: 5000\n"
          ],
          "name": "stdout"
        }
      ]
    },
    {
      "cell_type": "code",
      "metadata": {
        "colab": {
          "base_uri": "https://localhost:8080/",
          "height": 370
        },
        "id": "89dxFFhzUK-1",
        "outputId": "cfd043a4-a84a-4b20-f09e-ab8a95180ebb"
      },
      "source": [
        "#Plotting the figures with Matplotlib\n",
        "\n",
        "fig = plt.figure(figsize=(5,5))\n",
        "labels = 'Positives', 'Negatives'\n",
        "sizes = [len(positive_tweets), len(negative_tweets)]\n",
        "\n",
        "plt.pie(sizes, labels=labels, shadow=True, startangle=90)"
      ],
      "execution_count": 6,
      "outputs": [
        {
          "output_type": "execute_result",
          "data": {
            "text/plain": [
              "([<matplotlib.patches.Wedge at 0x7fa189850b90>,\n",
              "  <matplotlib.patches.Wedge at 0x7fa189850710>],\n",
              " [Text(-1.1, 1.3471114790620887e-16, 'Positives'),\n",
              "  Text(1.1, -2.6942229581241775e-16, 'Negatives')])"
            ]
          },
          "metadata": {
            "tags": []
          },
          "execution_count": 6
        },
        {
          "output_type": "display_data",
          "data": {
            "image/png": "[encoded data removed]",
            "text/plain": [
              "<Figure size 360x360 with 1 Axes>"
            ]
          },
          "metadata": {
            "tags": []
          }
        }
      ]
    },
    {
      "cell_type": "code",
      "metadata": {
        "id": "6k9Po4RrUx-H"
      },
      "source": [
        ""
      ],
      "execution_count": null,
      "outputs": []
    }
  ]
}